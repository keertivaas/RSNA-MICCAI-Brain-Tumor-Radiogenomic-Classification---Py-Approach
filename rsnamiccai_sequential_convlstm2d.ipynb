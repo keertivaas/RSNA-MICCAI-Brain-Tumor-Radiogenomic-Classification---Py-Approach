{
  "nbformat": 4,
  "nbformat_minor": 0,
  "metadata": {
    "accelerator": "GPU",
    "colab": {
      "name": "rsnamiccai_sequential_convlstm2d.ipynb",
      "provenance": [],
      "collapsed_sections": []
    },
    "kernelspec": {
      "display_name": "Python 3",
      "name": "python3"
    },
    "language_info": {
      "name": "python"
    }
  },
  "cells": [
    {
      "cell_type": "code",
      "metadata": {
        "colab": {
          "base_uri": "https://localhost:8080/"
        },
        "id": "3FVwQA2uxZlX",
        "outputId": "845b5aa3-e6a0-44b6-a3b0-8c6c6bc45513"
      },
      "source": [
        "from google.colab import drive\n",
        "drive.mount('/content/drive', force_remount=True)"
      ],
      "execution_count": null,
      "outputs": [
        {
          "output_type": "stream",
          "name": "stdout",
          "text": [
            "Mounted at /content/drive\n"
          ]
        }
      ]
    },
    {
      "cell_type": "code",
      "metadata": {
        "id": "2HNbzfN-hoVE"
      },
      "source": [
        "import os\n",
        "import pandas as pd"
      ],
      "execution_count": null,
      "outputs": []
    },
    {
      "cell_type": "code",
      "metadata": {
        "id": "flbxyssqhcec"
      },
      "source": [
        "PATH = \"/content/drive/MyDrive/RSNA\"\n",
        "TRAINX_PATH = os.path.join(PATH,\"train\")\n",
        "TRAINY_PATH = os.path.join(PATH,\"train_labels.csv\")"
      ],
      "execution_count": null,
      "outputs": []
    },
    {
      "cell_type": "code",
      "metadata": {
        "id": "YpF5xnKnhv1V"
      },
      "source": [
        "trainy_file = pd.read_csv(TRAINY_PATH)\n",
        "trainy_file.set_index('BraTS21ID',inplace = True)"
      ],
      "execution_count": null,
      "outputs": []
    },
    {
      "cell_type": "code",
      "metadata": {
        "colab": {
          "base_uri": "https://localhost:8080/",
          "height": 450
        },
        "id": "kCqq_Nrohzhr",
        "outputId": "3ffe511d-d4e5-4e40-808e-392335730c42"
      },
      "source": [
        "trainy_file"
      ],
      "execution_count": null,
      "outputs": [
        {
          "output_type": "execute_result",
          "data": {
            "text/html": [
              "<div>\n",
              "<style scoped>\n",
              "    .dataframe tbody tr th:only-of-type {\n",
              "        vertical-align: middle;\n",
              "    }\n",
              "\n",
              "    .dataframe tbody tr th {\n",
              "        vertical-align: top;\n",
              "    }\n",
              "\n",
              "    .dataframe thead th {\n",
              "        text-align: right;\n",
              "    }\n",
              "</style>\n",
              "<table border=\"1\" class=\"dataframe\">\n",
              "  <thead>\n",
              "    <tr style=\"text-align: right;\">\n",
              "      <th></th>\n",
              "      <th>MGMT_value</th>\n",
              "    </tr>\n",
              "    <tr>\n",
              "      <th>BraTS21ID</th>\n",
              "      <th></th>\n",
              "    </tr>\n",
              "  </thead>\n",
              "  <tbody>\n",
              "    <tr>\n",
              "      <th>0</th>\n",
              "      <td>1</td>\n",
              "    </tr>\n",
              "    <tr>\n",
              "      <th>2</th>\n",
              "      <td>1</td>\n",
              "    </tr>\n",
              "    <tr>\n",
              "      <th>3</th>\n",
              "      <td>0</td>\n",
              "    </tr>\n",
              "    <tr>\n",
              "      <th>5</th>\n",
              "      <td>1</td>\n",
              "    </tr>\n",
              "    <tr>\n",
              "      <th>6</th>\n",
              "      <td>1</td>\n",
              "    </tr>\n",
              "    <tr>\n",
              "      <th>...</th>\n",
              "      <td>...</td>\n",
              "    </tr>\n",
              "    <tr>\n",
              "      <th>1005</th>\n",
              "      <td>1</td>\n",
              "    </tr>\n",
              "    <tr>\n",
              "      <th>1007</th>\n",
              "      <td>1</td>\n",
              "    </tr>\n",
              "    <tr>\n",
              "      <th>1008</th>\n",
              "      <td>1</td>\n",
              "    </tr>\n",
              "    <tr>\n",
              "      <th>1009</th>\n",
              "      <td>0</td>\n",
              "    </tr>\n",
              "    <tr>\n",
              "      <th>1010</th>\n",
              "      <td>0</td>\n",
              "    </tr>\n",
              "  </tbody>\n",
              "</table>\n",
              "<p>585 rows × 1 columns</p>\n",
              "</div>"
            ],
            "text/plain": [
              "           MGMT_value\n",
              "BraTS21ID            \n",
              "0                   1\n",
              "2                   1\n",
              "3                   0\n",
              "5                   1\n",
              "6                   1\n",
              "...               ...\n",
              "1005                1\n",
              "1007                1\n",
              "1008                1\n",
              "1009                0\n",
              "1010                0\n",
              "\n",
              "[585 rows x 1 columns]"
            ]
          },
          "metadata": {},
          "execution_count": 5
        }
      ]
    },
    {
      "cell_type": "code",
      "metadata": {
        "colab": {
          "base_uri": "https://localhost:8080/"
        },
        "id": "xrBb5k77h6Iy",
        "outputId": "3a9d5749-0eee-41a2-851c-466797c32946"
      },
      "source": [
        "import glob\n",
        "import cv2\n",
        "import numpy as np\n",
        "trainx_data = []\n",
        "i = 0\n",
        "layers = 0\n",
        "for folder in sorted(glob.glob(TRAINX_PATH+\"/*\")):\n",
        "  # if (i<38):\n",
        "    # i = i+1\n",
        "    # continue\n",
        "  if (i>=80):\n",
        "    break\n",
        "  print(folder)\n",
        "  folder_data = []\n",
        "  for file in sorted(glob.glob(folder+\"/*.png\")):\n",
        "    try:\n",
        "      img = cv2.imread(file)\n",
        "    except:\n",
        "      print(\"No image\")\n",
        "    folder_data.append(img)\n",
        "  try:\n",
        "    height, width, layers = folder_data[0].shape\n",
        "  except:\n",
        "    print(\"No list\")\n",
        "  size = (width, height)\n",
        "  out = cv2.VideoWriter(\"data_new_\"+str(i)+\".mp4\", cv2.VideoWriter_fourcc(*'DIVX'), 15, size)\n",
        "  for j in range(len(folder_data)):\n",
        "    out.write(folder_data[j])\n",
        "  out.release()\n",
        "  trainx_data.append(folder_data)\n",
        "  i = i+1"
      ],
      "execution_count": null,
      "outputs": [
        {
          "output_type": "stream",
          "name": "stdout",
          "text": [
            "/content/drive/MyDrive/RSNA/train/00000\n",
            "/content/drive/MyDrive/RSNA/train/00002\n",
            "/content/drive/MyDrive/RSNA/train/00003\n",
            "/content/drive/MyDrive/RSNA/train/00005\n",
            "/content/drive/MyDrive/RSNA/train/00006\n",
            "/content/drive/MyDrive/RSNA/train/00008\n",
            "/content/drive/MyDrive/RSNA/train/00009\n",
            "/content/drive/MyDrive/RSNA/train/00011\n",
            "/content/drive/MyDrive/RSNA/train/00012\n",
            "/content/drive/MyDrive/RSNA/train/00014\n",
            "/content/drive/MyDrive/RSNA/train/00017\n",
            "/content/drive/MyDrive/RSNA/train/00018\n",
            "/content/drive/MyDrive/RSNA/train/00019\n",
            "/content/drive/MyDrive/RSNA/train/00020\n",
            "/content/drive/MyDrive/RSNA/train/00021\n",
            "/content/drive/MyDrive/RSNA/train/00022\n",
            "/content/drive/MyDrive/RSNA/train/00024\n",
            "/content/drive/MyDrive/RSNA/train/00025\n",
            "/content/drive/MyDrive/RSNA/train/00026\n",
            "/content/drive/MyDrive/RSNA/train/00028\n",
            "/content/drive/MyDrive/RSNA/train/00030\n",
            "/content/drive/MyDrive/RSNA/train/00031\n",
            "/content/drive/MyDrive/RSNA/train/00032\n",
            "/content/drive/MyDrive/RSNA/train/00033\n",
            "/content/drive/MyDrive/RSNA/train/00035\n",
            "/content/drive/MyDrive/RSNA/train/00036\n",
            "/content/drive/MyDrive/RSNA/train/00043\n",
            "/content/drive/MyDrive/RSNA/train/00044\n",
            "/content/drive/MyDrive/RSNA/train/00045\n",
            "/content/drive/MyDrive/RSNA/train/00046\n",
            "/content/drive/MyDrive/RSNA/train/00048\n",
            "/content/drive/MyDrive/RSNA/train/00049\n",
            "/content/drive/MyDrive/RSNA/train/00052\n",
            "/content/drive/MyDrive/RSNA/train/00053\n",
            "/content/drive/MyDrive/RSNA/train/00054\n",
            "/content/drive/MyDrive/RSNA/train/00056\n",
            "/content/drive/MyDrive/RSNA/train/00058\n",
            "/content/drive/MyDrive/RSNA/train/00059\n",
            "/content/drive/MyDrive/RSNA/train/00060\n",
            "/content/drive/MyDrive/RSNA/train/00061\n",
            "/content/drive/MyDrive/RSNA/train/00062\n",
            "/content/drive/MyDrive/RSNA/train/00063\n",
            "/content/drive/MyDrive/RSNA/train/00064\n",
            "/content/drive/MyDrive/RSNA/train/00066\n",
            "/content/drive/MyDrive/RSNA/train/00068\n",
            "/content/drive/MyDrive/RSNA/train/00070\n",
            "/content/drive/MyDrive/RSNA/train/00071\n",
            "/content/drive/MyDrive/RSNA/train/00072\n",
            "/content/drive/MyDrive/RSNA/train/00074\n",
            "/content/drive/MyDrive/RSNA/train/00077\n",
            "/content/drive/MyDrive/RSNA/train/00078\n",
            "/content/drive/MyDrive/RSNA/train/00081\n",
            "/content/drive/MyDrive/RSNA/train/00084\n",
            "/content/drive/MyDrive/RSNA/train/00085\n",
            "/content/drive/MyDrive/RSNA/train/00087\n",
            "/content/drive/MyDrive/RSNA/train/00088\n",
            "/content/drive/MyDrive/RSNA/train/00089\n",
            "/content/drive/MyDrive/RSNA/train/00090\n",
            "/content/drive/MyDrive/RSNA/train/00094\n",
            "/content/drive/MyDrive/RSNA/train/00095\n",
            "/content/drive/MyDrive/RSNA/train/00096\n",
            "/content/drive/MyDrive/RSNA/train/00097\n",
            "/content/drive/MyDrive/RSNA/train/00098\n",
            "/content/drive/MyDrive/RSNA/train/00099\n",
            "/content/drive/MyDrive/RSNA/train/00100\n",
            "/content/drive/MyDrive/RSNA/train/00102\n",
            "/content/drive/MyDrive/RSNA/train/00104\n",
            "/content/drive/MyDrive/RSNA/train/00105\n",
            "/content/drive/MyDrive/RSNA/train/00106\n",
            "/content/drive/MyDrive/RSNA/train/00107\n",
            "/content/drive/MyDrive/RSNA/train/00108\n",
            "/content/drive/MyDrive/RSNA/train/00110\n",
            "/content/drive/MyDrive/RSNA/train/00111\n",
            "/content/drive/MyDrive/RSNA/train/00112\n",
            "/content/drive/MyDrive/RSNA/train/00113\n",
            "/content/drive/MyDrive/RSNA/train/00116\n",
            "/content/drive/MyDrive/RSNA/train/00117\n",
            "/content/drive/MyDrive/RSNA/train/00120\n",
            "/content/drive/MyDrive/RSNA/train/00121\n",
            "/content/drive/MyDrive/RSNA/train/00122\n"
          ]
        }
      ]
    },
    {
      "cell_type": "code",
      "metadata": {
        "id": "NfD6IwKyiuXI",
        "colab": {
          "base_uri": "https://localhost:8080/"
        },
        "outputId": "2f7fa4cb-3629-4f54-dfd4-c468aa92950c"
      },
      "source": [
        "len(trainx_data)"
      ],
      "execution_count": null,
      "outputs": [
        {
          "output_type": "execute_result",
          "data": {
            "text/plain": [
              "80"
            ]
          },
          "metadata": {},
          "execution_count": 7
        }
      ]
    },
    {
      "cell_type": "code",
      "metadata": {
        "id": "4uMVZvGEBUh6"
      },
      "source": [
        "seq_len = 15\n",
        "img_height = 64\n",
        "img_width = 64\n",
        "def frames_extraction(video_path):\n",
        "    frames_list = []\n",
        "     \n",
        "    vidObj = cv2.VideoCapture(video_path)\n",
        "    # Used as counter variable \n",
        "    count = 1\n",
        " \n",
        "    while count <= seq_len: \n",
        "         \n",
        "        success, image = vidObj.read() \n",
        "        if success:\n",
        "            image = cv2.resize(image, (img_height, img_width))\n",
        "            frames_list.append(image)\n",
        "            count += 1\n",
        "        else:\n",
        "            print(\"Defected frame\")\n",
        "            # cv2.imwrite(\"frame%d.jpg\" % count, image)\n",
        "            break\n",
        " \n",
        "            \n",
        "    return frames_list"
      ],
      "execution_count": null,
      "outputs": []
    },
    {
      "cell_type": "code",
      "metadata": {
        "id": "hoVBHWTD-2d2",
        "colab": {
          "base_uri": "https://localhost:8080/"
        },
        "outputId": "f2893992-fbd8-4b58-cc90-d0cec1d1aa05"
      },
      "source": [
        "X = []\n",
        "y_csv = trainy_file[\"MGMT_value\"]\n",
        "Y = []\n",
        "for i in range(0, 80):\n",
        "  frames = frames_extraction(\"data_new_\"+str(i)+\".mp4\")\n",
        "  # print(len(frames))\n",
        "  print(len(frames))\n",
        "  if(len(frames)!=0):\n",
        "    X.append(frames)\n",
        "    Y.append(y_csv.iloc[i])\n",
        "  # print(type(frames))\n",
        "X = np.asarray(X)\n",
        "Y = np.asarray(Y)"
      ],
      "execution_count": null,
      "outputs": [
        {
          "output_type": "stream",
          "name": "stdout",
          "text": [
            "15\n",
            "15\n",
            "15\n",
            "15\n",
            "15\n",
            "15\n",
            "15\n",
            "15\n",
            "15\n",
            "15\n",
            "15\n",
            "15\n",
            "15\n",
            "15\n",
            "15\n",
            "15\n",
            "15\n",
            "15\n",
            "15\n",
            "15\n",
            "15\n",
            "15\n",
            "15\n",
            "15\n",
            "15\n",
            "15\n",
            "15\n",
            "15\n",
            "15\n",
            "15\n",
            "15\n",
            "15\n",
            "15\n",
            "15\n",
            "15\n",
            "15\n",
            "15\n",
            "15\n",
            "15\n",
            "15\n",
            "15\n",
            "15\n",
            "15\n",
            "15\n",
            "15\n",
            "15\n",
            "15\n",
            "15\n",
            "15\n",
            "15\n",
            "15\n",
            "15\n",
            "15\n",
            "15\n",
            "15\n",
            "15\n",
            "15\n",
            "15\n",
            "15\n",
            "15\n",
            "15\n",
            "15\n",
            "15\n",
            "15\n",
            "15\n",
            "15\n",
            "15\n",
            "15\n",
            "15\n",
            "15\n",
            "15\n",
            "15\n",
            "15\n",
            "15\n",
            "15\n",
            "15\n",
            "15\n",
            "15\n",
            "15\n",
            "15\n"
          ]
        }
      ]
    },
    {
      "cell_type": "code",
      "metadata": {
        "id": "ZepMOZwXncFf",
        "colab": {
          "base_uri": "https://localhost:8080/"
        },
        "outputId": "78a20867-43fc-43e2-9feb-721eb1e0dee1"
      },
      "source": [
        "X.shape"
      ],
      "execution_count": null,
      "outputs": [
        {
          "output_type": "execute_result",
          "data": {
            "text/plain": [
              "(80, 15, 64, 64, 3)"
            ]
          },
          "metadata": {},
          "execution_count": 10
        }
      ]
    },
    {
      "cell_type": "code",
      "metadata": {
        "id": "T2POEdtInilo",
        "colab": {
          "base_uri": "https://localhost:8080/"
        },
        "outputId": "97ba8280-f4df-4f6a-caba-0bcd8234dada"
      },
      "source": [
        "Y.shape"
      ],
      "execution_count": null,
      "outputs": [
        {
          "output_type": "execute_result",
          "data": {
            "text/plain": [
              "(80,)"
            ]
          },
          "metadata": {},
          "execution_count": 11
        }
      ]
    },
    {
      "cell_type": "code",
      "metadata": {
        "id": "kSA4_3VE_0fS"
      },
      "source": [
        "import pandas as pd\n",
        "from sklearn.model_selection import train_test_split\n",
        "X_train, X_test, y_train, y_test = train_test_split(X, Y, test_size=0.40, shuffle=True, random_state=0)"
      ],
      "execution_count": null,
      "outputs": []
    },
    {
      "cell_type": "code",
      "metadata": {
        "id": "9mlIOsNeCTyJ"
      },
      "source": [
        "from tensorflow import keras\n",
        "from tensorflow.keras.layers import *\n",
        "model = keras.Sequential()\n",
        "model.add(ConvLSTM2D(filters = 64, kernel_size = (3, 3), return_sequences = False, data_format = \"channels_last\", input_shape = (seq_len, img_height, img_width, 3)))\n",
        "model.add(Dropout(0.2))\n",
        "model.add(Flatten())\n",
        "model.add(Dense(256, activation=\"relu\"))\n",
        "model.add(Dropout(0.3))\n",
        "model.add(Dense(6, activation = \"softmax\"))"
      ],
      "execution_count": null,
      "outputs": []
    },
    {
      "cell_type": "code",
      "metadata": {
        "id": "4hwF96sag-ix",
        "colab": {
          "base_uri": "https://localhost:8080/"
        },
        "outputId": "3edc5e3f-c0d2-44b1-b3ec-1435635d3d33"
      },
      "source": [
        "model.summary()"
      ],
      "execution_count": null,
      "outputs": [
        {
          "output_type": "stream",
          "name": "stdout",
          "text": [
            "Model: \"sequential_1\"\n",
            "_________________________________________________________________\n",
            " Layer (type)                Output Shape              Param #   \n",
            "=================================================================\n",
            " conv_lstm2d_1 (ConvLSTM2D)  (None, 62, 62, 64)        154624    \n",
            "                                                                 \n",
            " dropout_2 (Dropout)         (None, 62, 62, 64)        0         \n",
            "                                                                 \n",
            " flatten_1 (Flatten)         (None, 246016)            0         \n",
            "                                                                 \n",
            " dense_2 (Dense)             (None, 256)               62980352  \n",
            "                                                                 \n",
            " dropout_3 (Dropout)         (None, 256)               0         \n",
            "                                                                 \n",
            " dense_3 (Dense)             (None, 6)                 1542      \n",
            "                                                                 \n",
            "=================================================================\n",
            "Total params: 63,136,518\n",
            "Trainable params: 63,136,518\n",
            "Non-trainable params: 0\n",
            "_________________________________________________________________\n"
          ]
        }
      ]
    },
    {
      "cell_type": "code",
      "metadata": {
        "id": "-ZVdeBzhDGER"
      },
      "source": [
        "import tensorflow\n",
        "opt = tensorflow.keras.optimizers.SGD(learning_rate=0.001)\n",
        "model.compile(loss='sparse_categorical_crossentropy', optimizer=opt, metrics=[\"accuracy\"])"
      ],
      "execution_count": null,
      "outputs": []
    },
    {
      "cell_type": "code",
      "metadata": {
        "id": "6-S4erwv7UmV"
      },
      "source": [
        "\n",
        "# !pip install tensorflow==2.4.1"
      ],
      "execution_count": null,
      "outputs": []
    },
    {
      "cell_type": "code",
      "metadata": {
        "id": "4xG8rKnB76mE",
        "colab": {
          "base_uri": "https://localhost:8080/",
          "height": 35
        },
        "outputId": "c41c73ba-8ab9-45a1-b574-3019ba3df8b0"
      },
      "source": [
        "tensorflow.keras.__version__"
      ],
      "execution_count": null,
      "outputs": [
        {
          "output_type": "execute_result",
          "data": {
            "application/vnd.google.colaboratory.intrinsic+json": {
              "type": "string"
            },
            "text/plain": [
              "'2.7.0'"
            ]
          },
          "metadata": {},
          "execution_count": 28
        }
      ]
    },
    {
      "cell_type": "code",
      "metadata": {
        "id": "RrvxcmDsE9xA"
      },
      "source": [
        "earlystop = tensorflow.keras.callbacks.EarlyStopping(patience=7)\n",
        "callbacks = [earlystop]"
      ],
      "execution_count": null,
      "outputs": []
    },
    {
      "cell_type": "code",
      "metadata": {
        "id": "UXcnryV6CRjs",
        "colab": {
          "base_uri": "https://localhost:8080/"
        },
        "outputId": "6471da7f-f371-4c77-f314-319b606db73b"
      },
      "source": [
        "X_train.shape"
      ],
      "execution_count": null,
      "outputs": [
        {
          "output_type": "execute_result",
          "data": {
            "text/plain": [
              "(48, 15, 64, 64, 3)"
            ]
          },
          "metadata": {},
          "execution_count": 30
        }
      ]
    },
    {
      "cell_type": "code",
      "metadata": {
        "id": "y5tPaxueK9F5",
        "colab": {
          "base_uri": "https://localhost:8080/"
        },
        "outputId": "856fe1d8-537d-4509-a16f-258483780f4d"
      },
      "source": [
        "history = model.fit(x = X_train, y = y_train, epochs=5, batch_size = 8,  shuffle=True, callbacks=callbacks)"
      ],
      "execution_count": null,
      "outputs": [
        {
          "output_type": "stream",
          "name": "stdout",
          "text": [
            "Epoch 1/5\n",
            "6/6 [==============================] - ETA: 0s - loss: 0.2798 - accuracy: 0.9375WARNING:tensorflow:Early stopping conditioned on metric `val_loss` which is not available. Available metrics are: loss,accuracy\n",
            "6/6 [==============================] - 5s 582ms/step - loss: 0.2798 - accuracy: 0.9375\n",
            "Epoch 2/5\n",
            "6/6 [==============================] - ETA: 0s - loss: 0.1788 - accuracy: 0.9792WARNING:tensorflow:Early stopping conditioned on metric `val_loss` which is not available. Available metrics are: loss,accuracy\n",
            "6/6 [==============================] - 4s 585ms/step - loss: 0.1788 - accuracy: 0.9792\n",
            "Epoch 3/5\n",
            "6/6 [==============================] - ETA: 0s - loss: 0.2181 - accuracy: 0.9583WARNING:tensorflow:Early stopping conditioned on metric `val_loss` which is not available. Available metrics are: loss,accuracy\n",
            "6/6 [==============================] - 4s 587ms/step - loss: 0.2181 - accuracy: 0.9583\n",
            "Epoch 4/5\n",
            "6/6 [==============================] - ETA: 0s - loss: 0.1561 - accuracy: 1.0000WARNING:tensorflow:Early stopping conditioned on metric `val_loss` which is not available. Available metrics are: loss,accuracy\n",
            "6/6 [==============================] - 4s 589ms/step - loss: 0.1561 - accuracy: 1.0000\n",
            "Epoch 5/5\n",
            "6/6 [==============================] - ETA: 0s - loss: 0.1257 - accuracy: 1.0000WARNING:tensorflow:Early stopping conditioned on metric `val_loss` which is not available. Available metrics are: loss,accuracy\n",
            "6/6 [==============================] - 4s 587ms/step - loss: 0.1257 - accuracy: 1.0000\n"
          ]
        }
      ]
    },
    {
      "cell_type": "code",
      "metadata": {
        "id": "NvDqD7CMHPeC",
        "colab": {
          "base_uri": "https://localhost:8080/"
        },
        "outputId": "284d12cb-5f45-4d2c-d0ad-33884db15a7d"
      },
      "source": [
        "from sklearn.metrics import classification_report\n",
        "y_pred = model.predict(X_test)\n",
        "y_pred = np.argmax(y_pred, axis=1)\n",
        "print(y_pred)\n",
        "print(\"---\")\n",
        "print(y_test)\n",
        "print(classification_report(y_test, y_pred))"
      ],
      "execution_count": null,
      "outputs": [
        {
          "output_type": "stream",
          "name": "stdout",
          "text": [
            "[1 1 0 1 1 0 0 0 0 1 1 1 0 0 1 1 1 1 0 1 0 1 0 0 0 1 1 1 0 1 0 1]\n",
            "---\n",
            "[1 0 1 1 1 1 0 1 1 1 1 0 0 0 0 1 1 0 1 1 0 1 1 0 0 1 1 1 0 1 0 1]\n",
            "              precision    recall  f1-score   support\n",
            "\n",
            "           0       0.57      0.67      0.62        12\n",
            "           1       0.78      0.70      0.74        20\n",
            "\n",
            "    accuracy                           0.69        32\n",
            "   macro avg       0.67      0.68      0.68        32\n",
            "weighted avg       0.70      0.69      0.69        32\n",
            "\n"
          ]
        }
      ]
    },
    {
      "cell_type": "code",
      "metadata": {
        "id": "OSYT2lg8riAf"
      },
      "source": [
        ""
      ],
      "execution_count": null,
      "outputs": []
    }
  ]
}